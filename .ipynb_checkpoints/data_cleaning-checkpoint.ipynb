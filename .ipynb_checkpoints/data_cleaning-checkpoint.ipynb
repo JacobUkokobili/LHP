{
 "cells": [
  {
   "cell_type": "code",
   "execution_count": 1,
   "metadata": {},
   "outputs": [
    {
     "name": "stdout",
     "output_type": "stream",
     "text": [
      "Populating the interactive namespace from numpy and matplotlib\n"
     ]
    }
   ],
   "source": [
    "# import modules and libraries\n",
    "import pandas as pd\n",
    "import numpy as np\n",
    "from glob import glob\n",
    "import matplotlib.pyplot as plt\n",
    "import seaborn as sns\n",
    "%pylab inline"
   ]
  },
  {
   "cell_type": "code",
   "execution_count": 2,
   "metadata": {},
   "outputs": [
    {
     "data": {
      "text/plain": [
       "['data_flats.csv', 'data_house.csv']"
      ]
     },
     "execution_count": 2,
     "metadata": {},
     "output_type": "execute_result"
    }
   ],
   "source": [
    "raw_data = sorted(glob('data_*.csv'))\n",
    "raw_data"
   ]
  },
  {
   "cell_type": "code",
   "execution_count": 3,
   "metadata": {},
   "outputs": [],
   "source": [
    "df = pd.concat((pd.read_csv(data).assign(filename = data)\n",
    "          for data in raw_data), ignore_index = True)\n",
    "\n",
    "df.to_csv('all_data.csv', index = False)"
   ]
  },
  {
   "cell_type": "code",
   "execution_count": 4,
   "metadata": {},
   "outputs": [
    {
     "data": {
      "text/html": [
       "<div>\n",
       "<style scoped>\n",
       "    .dataframe tbody tr th:only-of-type {\n",
       "        vertical-align: middle;\n",
       "    }\n",
       "\n",
       "    .dataframe tbody tr th {\n",
       "        vertical-align: top;\n",
       "    }\n",
       "\n",
       "    .dataframe thead th {\n",
       "        text-align: right;\n",
       "    }\n",
       "</style>\n",
       "<table border=\"1\" class=\"dataframe\">\n",
       "  <thead>\n",
       "    <tr style=\"text-align: right;\">\n",
       "      <th></th>\n",
       "      <th>property_type</th>\n",
       "      <th>location</th>\n",
       "      <th>price</th>\n",
       "      <th>features</th>\n",
       "      <th>filename</th>\n",
       "    </tr>\n",
       "  </thead>\n",
       "  <tbody>\n",
       "    <tr>\n",
       "      <th>0</th>\n",
       "      <td>Sharp Two Bedroom Apartment</td>\n",
       "      <td>Lbs Lekkki Ajah Lagos, Ajah, Lagos</td>\n",
       "      <td>1,200,000 per annum</td>\n",
       "      <td>2 Bedrooms3 Bathrooms3 Toilets12 Parking Space...</td>\n",
       "      <td>data_flats.csv</td>\n",
       "    </tr>\n",
       "    <tr>\n",
       "      <th>1</th>\n",
       "      <td>Two Bedroom Bungalow At Cooperative Villa Esta...</td>\n",
       "      <td>Badore, Ajah, Lagos</td>\n",
       "      <td>1,000,000 per annum</td>\n",
       "      <td>2 Bedrooms2 Toilets Save</td>\n",
       "      <td>data_flats.csv</td>\n",
       "    </tr>\n",
       "    <tr>\n",
       "      <th>2</th>\n",
       "      <td>2 Bedroom Guest Charlet</td>\n",
       "      <td>Cooperative Villa, Badore, Ajah, Lagos</td>\n",
       "      <td>1,000,000 per annum</td>\n",
       "      <td>2 Bedrooms2 Bathrooms3 Toilets Save</td>\n",
       "      <td>data_flats.csv</td>\n",
       "    </tr>\n",
       "    <tr>\n",
       "      <th>3</th>\n",
       "      <td>A Fairly Used &amp; Spacious 2 Bedroom Flat</td>\n",
       "      <td>Atunrase Estate, Gbagada, Lagos</td>\n",
       "      <td>1,100,000 per annum</td>\n",
       "      <td>2 Bedrooms2 Bathrooms3 Toilets1 Parking Space ...</td>\n",
       "      <td>data_flats.csv</td>\n",
       "    </tr>\n",
       "    <tr>\n",
       "      <th>4</th>\n",
       "      <td>Affordable 1 Bedroom Apartment</td>\n",
       "      <td>Oniru, Victoria Island (VI), Lagos</td>\n",
       "      <td>1,800,000 per annum</td>\n",
       "      <td>1 Bedroom1 Bathroom2 Toilets Save</td>\n",
       "      <td>data_flats.csv</td>\n",
       "    </tr>\n",
       "  </tbody>\n",
       "</table>\n",
       "</div>"
      ],
      "text/plain": [
       "                                       property_type  \\\n",
       "0                        Sharp Two Bedroom Apartment   \n",
       "1  Two Bedroom Bungalow At Cooperative Villa Esta...   \n",
       "2                            2 Bedroom Guest Charlet   \n",
       "3            A Fairly Used & Spacious 2 Bedroom Flat   \n",
       "4                     Affordable 1 Bedroom Apartment   \n",
       "\n",
       "                                 location                price  \\\n",
       "0      Lbs Lekkki Ajah Lagos, Ajah, Lagos  1,200,000 per annum   \n",
       "1                     Badore, Ajah, Lagos  1,000,000 per annum   \n",
       "2  Cooperative Villa, Badore, Ajah, Lagos  1,000,000 per annum   \n",
       "3         Atunrase Estate, Gbagada, Lagos  1,100,000 per annum   \n",
       "4      Oniru, Victoria Island (VI), Lagos  1,800,000 per annum   \n",
       "\n",
       "                                            features        filename  \n",
       "0  2 Bedrooms3 Bathrooms3 Toilets12 Parking Space...  data_flats.csv  \n",
       "1                           2 Bedrooms2 Toilets Save  data_flats.csv  \n",
       "2                2 Bedrooms2 Bathrooms3 Toilets Save  data_flats.csv  \n",
       "3  2 Bedrooms2 Bathrooms3 Toilets1 Parking Space ...  data_flats.csv  \n",
       "4                  1 Bedroom1 Bathroom2 Toilets Save  data_flats.csv  "
      ]
     },
     "execution_count": 4,
     "metadata": {},
     "output_type": "execute_result"
    }
   ],
   "source": [
    "data = pd.read_csv('all_data.csv')\n",
    "data.head()"
   ]
  },
  {
   "cell_type": "code",
   "execution_count": 5,
   "metadata": {},
   "outputs": [
    {
     "data": {
      "text/plain": [
       "(2320, 5)"
      ]
     },
     "execution_count": 5,
     "metadata": {},
     "output_type": "execute_result"
    }
   ],
   "source": [
    "data.shape"
   ]
  },
  {
   "cell_type": "code",
   "execution_count": 6,
   "metadata": {},
   "outputs": [],
   "source": [
    "data['address'] = data['location'].apply(lambda x: x.split(',')[0])"
   ]
  },
  {
   "cell_type": "code",
   "execution_count": 7,
   "metadata": {},
   "outputs": [],
   "source": [
    "data['location'] = data['location'].apply(lambda x: x.split(',')[1])"
   ]
  },
  {
   "cell_type": "code",
   "execution_count": 8,
   "metadata": {},
   "outputs": [],
   "source": [
    "data['price'] = data['price'].str.replace(',', '')"
   ]
  },
  {
   "cell_type": "code",
   "execution_count": 9,
   "metadata": {},
   "outputs": [
    {
     "data": {
      "text/plain": [
       "0       1200000\n",
       "1       1000000\n",
       "2       1000000\n",
       "3       1100000\n",
       "4       1800000\n",
       "         ...   \n",
       "2315    3000000\n",
       "2316    5000000\n",
       "2317    3500000\n",
       "2318    5000000\n",
       "2319    8000000\n",
       "Name: price, Length: 2320, dtype: int32"
      ]
     },
     "execution_count": 9,
     "metadata": {},
     "output_type": "execute_result"
    }
   ],
   "source": [
    "data['price'] = data['price'].apply(lambda x: x.split()[0])\n",
    "data['price'] = data['price'].str.replace('all', '0')\n",
    "data['price'].astype(int)"
   ]
  },
  {
   "cell_type": "code",
   "execution_count": 10,
   "metadata": {},
   "outputs": [],
   "source": [
    "data['bedroom'] = data['features'].apply(lambda x: x.split()[0])"
   ]
  },
  {
   "cell_type": "code",
   "execution_count": 11,
   "metadata": {},
   "outputs": [
    {
     "data": {
      "text/plain": [
       "0       2\n",
       "1       2\n",
       "2       2\n",
       "3       2\n",
       "4       1\n",
       "       ..\n",
       "2315    4\n",
       "2316    5\n",
       "2317    4\n",
       "2318    4\n",
       "2319    4\n",
       "Name: bedroom, Length: 2320, dtype: object"
      ]
     },
     "execution_count": 11,
     "metadata": {},
     "output_type": "execute_result"
    }
   ],
   "source": [
    "data.bedroom"
   ]
  },
  {
   "cell_type": "code",
   "execution_count": 12,
   "metadata": {},
   "outputs": [],
   "source": [
    "bath = data['features'].apply(lambda x: x.replace('Bedrooms','').replace('Bedroom',''))"
   ]
  },
  {
   "cell_type": "code",
   "execution_count": 13,
   "metadata": {},
   "outputs": [
    {
     "data": {
      "text/plain": [
       "0        2 3 Bathrooms3 Toilets12 Parking Spaces Save\n",
       "1                                    2 2 Toilets Save\n",
       "2                         2 2 Bathrooms3 Toilets Save\n",
       "3          2 2 Bathrooms3 Toilets1 Parking Space Save\n",
       "4                          1 1 Bathroom2 Toilets Save\n",
       "                            ...                      \n",
       "2315      4 4 Bathrooms5 Toilets3 Parking Spaces Save\n",
       "2316      5 5 Bathrooms6 Toilets6 Parking Spaces Save\n",
       "2317                      4 4 Bathrooms5 Toilets Save\n",
       "2318    4 4 Bathrooms5 Toilets800 Parking Spaces Save\n",
       "2319                      4 4 Bathrooms5 Toilets Save\n",
       "Name: features, Length: 2320, dtype: object"
      ]
     },
     "execution_count": 13,
     "metadata": {},
     "output_type": "execute_result"
    }
   ],
   "source": [
    "bath"
   ]
  },
  {
   "cell_type": "code",
   "execution_count": 14,
   "metadata": {},
   "outputs": [],
   "source": [
    "data['bathroom'] = bath.apply(lambda x: x.strip()[2])"
   ]
  },
  {
   "cell_type": "code",
   "execution_count": 15,
   "metadata": {},
   "outputs": [],
   "source": [
    "toilets = bath.apply(lambda x: x.replace('Bathrooms','').replace('Bathroom','').replace('Toilets','').replace('Toilet',''))"
   ]
  },
  {
   "cell_type": "code",
   "execution_count": 16,
   "metadata": {},
   "outputs": [
    {
     "data": {
      "text/plain": [
       "0        2 3 3 12 Parking Spaces Save\n",
       "1                           2 2  Save\n",
       "2                         2 2 3  Save\n",
       "3          2 2 3 1 Parking Space Save\n",
       "4                         1 1 2  Save\n",
       "                    ...              \n",
       "2315      4 4 5 3 Parking Spaces Save\n",
       "2316      5 5 6 6 Parking Spaces Save\n",
       "2317                      4 4 5  Save\n",
       "2318    4 4 5 800 Parking Spaces Save\n",
       "2319                      4 4 5  Save\n",
       "Name: features, Length: 2320, dtype: object"
      ]
     },
     "execution_count": 16,
     "metadata": {},
     "output_type": "execute_result"
    }
   ],
   "source": [
    "toilets"
   ]
  },
  {
   "cell_type": "code",
   "execution_count": 17,
   "metadata": {},
   "outputs": [],
   "source": [
    "data['toilet'] = toilets.apply(lambda x: x.strip()[3:5])"
   ]
  },
  {
   "cell_type": "code",
   "execution_count": 18,
   "metadata": {},
   "outputs": [],
   "source": [
    "data['parking_lot'] = toilets.apply(lambda x: x.strip()[5:8])"
   ]
  },
  {
   "cell_type": "code",
   "execution_count": 19,
   "metadata": {},
   "outputs": [
    {
     "data": {
      "text/html": [
       "<div>\n",
       "<style scoped>\n",
       "    .dataframe tbody tr th:only-of-type {\n",
       "        vertical-align: middle;\n",
       "    }\n",
       "\n",
       "    .dataframe tbody tr th {\n",
       "        vertical-align: top;\n",
       "    }\n",
       "\n",
       "    .dataframe thead th {\n",
       "        text-align: right;\n",
       "    }\n",
       "</style>\n",
       "<table border=\"1\" class=\"dataframe\">\n",
       "  <thead>\n",
       "    <tr style=\"text-align: right;\">\n",
       "      <th></th>\n",
       "      <th>property_type</th>\n",
       "      <th>location</th>\n",
       "      <th>price</th>\n",
       "      <th>features</th>\n",
       "      <th>filename</th>\n",
       "      <th>address</th>\n",
       "      <th>bedroom</th>\n",
       "      <th>bathroom</th>\n",
       "      <th>toilet</th>\n",
       "      <th>parking_lot</th>\n",
       "    </tr>\n",
       "  </thead>\n",
       "  <tbody>\n",
       "    <tr>\n",
       "      <th>0</th>\n",
       "      <td>Sharp Two Bedroom Apartment</td>\n",
       "      <td>Ajah</td>\n",
       "      <td>1200000</td>\n",
       "      <td>2 Bedrooms3 Bathrooms3 Toilets12 Parking Space...</td>\n",
       "      <td>data_flats.csv</td>\n",
       "      <td>Lbs Lekkki Ajah Lagos</td>\n",
       "      <td>2</td>\n",
       "      <td>3</td>\n",
       "      <td>3</td>\n",
       "      <td>12</td>\n",
       "    </tr>\n",
       "    <tr>\n",
       "      <th>1</th>\n",
       "      <td>Two Bedroom Bungalow At Cooperative Villa Esta...</td>\n",
       "      <td>Ajah</td>\n",
       "      <td>1000000</td>\n",
       "      <td>2 Bedrooms2 Toilets Save</td>\n",
       "      <td>data_flats.csv</td>\n",
       "      <td>Badore</td>\n",
       "      <td>2</td>\n",
       "      <td>2</td>\n",
       "      <td></td>\n",
       "      <td>Sav</td>\n",
       "    </tr>\n",
       "    <tr>\n",
       "      <th>2</th>\n",
       "      <td>2 Bedroom Guest Charlet</td>\n",
       "      <td>Badore</td>\n",
       "      <td>1000000</td>\n",
       "      <td>2 Bedrooms2 Bathrooms3 Toilets Save</td>\n",
       "      <td>data_flats.csv</td>\n",
       "      <td>Cooperative Villa</td>\n",
       "      <td>2</td>\n",
       "      <td>2</td>\n",
       "      <td>3</td>\n",
       "      <td>S</td>\n",
       "    </tr>\n",
       "    <tr>\n",
       "      <th>3</th>\n",
       "      <td>A Fairly Used &amp; Spacious 2 Bedroom Flat</td>\n",
       "      <td>Gbagada</td>\n",
       "      <td>1100000</td>\n",
       "      <td>2 Bedrooms2 Bathrooms3 Toilets1 Parking Space ...</td>\n",
       "      <td>data_flats.csv</td>\n",
       "      <td>Atunrase Estate</td>\n",
       "      <td>2</td>\n",
       "      <td>2</td>\n",
       "      <td>3</td>\n",
       "      <td>1</td>\n",
       "    </tr>\n",
       "    <tr>\n",
       "      <th>4</th>\n",
       "      <td>Affordable 1 Bedroom Apartment</td>\n",
       "      <td>Victoria Island (VI)</td>\n",
       "      <td>1800000</td>\n",
       "      <td>1 Bedroom1 Bathroom2 Toilets Save</td>\n",
       "      <td>data_flats.csv</td>\n",
       "      <td>Oniru</td>\n",
       "      <td>1</td>\n",
       "      <td>1</td>\n",
       "      <td>2</td>\n",
       "      <td>S</td>\n",
       "    </tr>\n",
       "  </tbody>\n",
       "</table>\n",
       "</div>"
      ],
      "text/plain": [
       "                                       property_type               location  \\\n",
       "0                        Sharp Two Bedroom Apartment                   Ajah   \n",
       "1  Two Bedroom Bungalow At Cooperative Villa Esta...                   Ajah   \n",
       "2                            2 Bedroom Guest Charlet                 Badore   \n",
       "3            A Fairly Used & Spacious 2 Bedroom Flat                Gbagada   \n",
       "4                     Affordable 1 Bedroom Apartment   Victoria Island (VI)   \n",
       "\n",
       "     price                                           features        filename  \\\n",
       "0  1200000  2 Bedrooms3 Bathrooms3 Toilets12 Parking Space...  data_flats.csv   \n",
       "1  1000000                           2 Bedrooms2 Toilets Save  data_flats.csv   \n",
       "2  1000000                2 Bedrooms2 Bathrooms3 Toilets Save  data_flats.csv   \n",
       "3  1100000  2 Bedrooms2 Bathrooms3 Toilets1 Parking Space ...  data_flats.csv   \n",
       "4  1800000                  1 Bedroom1 Bathroom2 Toilets Save  data_flats.csv   \n",
       "\n",
       "                 address bedroom bathroom toilet parking_lot  \n",
       "0  Lbs Lekkki Ajah Lagos       2        3      3          12  \n",
       "1                 Badore       2        2                Sav  \n",
       "2      Cooperative Villa       2        2      3           S  \n",
       "3        Atunrase Estate       2        2      3          1   \n",
       "4                  Oniru       1        1      2           S  "
      ]
     },
     "execution_count": 19,
     "metadata": {},
     "output_type": "execute_result"
    }
   ],
   "source": [
    "data.head()"
   ]
  },
  {
   "cell_type": "code",
   "execution_count": 21,
   "metadata": {},
   "outputs": [],
   "source": [
    "data['bq'] = data['property_type'].apply(lambda x: 1 if 'Bq' in x else 0)"
   ]
  },
  {
   "cell_type": "code",
   "execution_count": 25,
   "metadata": {},
   "outputs": [
    {
     "data": {
      "text/plain": [
       "array([' 12', 'Sav', '  S', ' 1 ', '0 P', ' Pa', ' 78', ' 2 ', 've',\n",
       "       ' 3 ', ' 4 ', ' 8 ', ' 5 ', ' 1,', '3  ', '', ' 7 ', 'ark', '3 2',\n",
       "       ' 10', ' 6 ', ' 50', 'Par', ' 15', ' 36', ' 24', ' 95', ' 20',\n",
       "       ' 9 ', ' 64', ' 40', 'kin', '00 ', '50 ', ' 80', ' 23', '3 P',\n",
       "       ' 30', '2 P', ' 65', ' 16', ' 11', 'qm ', ' 14', ' 70', ' 3,',\n",
       "       '5 P', '1 1', ' 18', ' 25', '20 ', ' 45'], dtype=object)"
      ]
     },
     "execution_count": 25,
     "metadata": {},
     "output_type": "execute_result"
    }
   ],
   "source": [
    "data['parking_lot'].unique()"
   ]
  },
  {
   "cell_type": "code",
   "execution_count": 30,
   "metadata": {},
   "outputs": [],
   "source": [
    "data['parking_lot'] = data['parking_lot'].apply(lambda x: x.replace('0av,','0').replace('S','0').replace('ve','0'))"
   ]
  },
  {
   "cell_type": "code",
   "execution_count": 31,
   "metadata": {},
   "outputs": [
    {
     "data": {
      "text/html": [
       "<div>\n",
       "<style scoped>\n",
       "    .dataframe tbody tr th:only-of-type {\n",
       "        vertical-align: middle;\n",
       "    }\n",
       "\n",
       "    .dataframe tbody tr th {\n",
       "        vertical-align: top;\n",
       "    }\n",
       "\n",
       "    .dataframe thead th {\n",
       "        text-align: right;\n",
       "    }\n",
       "</style>\n",
       "<table border=\"1\" class=\"dataframe\">\n",
       "  <thead>\n",
       "    <tr style=\"text-align: right;\">\n",
       "      <th></th>\n",
       "      <th>property_type</th>\n",
       "      <th>location</th>\n",
       "      <th>price</th>\n",
       "      <th>features</th>\n",
       "      <th>filename</th>\n",
       "      <th>address</th>\n",
       "      <th>bedroom</th>\n",
       "      <th>bathroom</th>\n",
       "      <th>toilet</th>\n",
       "      <th>parking_lot</th>\n",
       "      <th>bq</th>\n",
       "    </tr>\n",
       "  </thead>\n",
       "  <tbody>\n",
       "    <tr>\n",
       "      <th>0</th>\n",
       "      <td>Sharp Two Bedroom Apartment</td>\n",
       "      <td>Ajah</td>\n",
       "      <td>1200000</td>\n",
       "      <td>2 Bedrooms3 Bathrooms3 Toilets12 Parking Space...</td>\n",
       "      <td>data_flats.csv</td>\n",
       "      <td>Lbs Lekkki Ajah Lagos</td>\n",
       "      <td>2</td>\n",
       "      <td>3</td>\n",
       "      <td>3</td>\n",
       "      <td>12</td>\n",
       "      <td>0</td>\n",
       "    </tr>\n",
       "    <tr>\n",
       "      <th>1</th>\n",
       "      <td>Two Bedroom Bungalow At Cooperative Villa Esta...</td>\n",
       "      <td>Ajah</td>\n",
       "      <td>1000000</td>\n",
       "      <td>2 Bedrooms2 Toilets Save</td>\n",
       "      <td>data_flats.csv</td>\n",
       "      <td>Badore</td>\n",
       "      <td>2</td>\n",
       "      <td>2</td>\n",
       "      <td></td>\n",
       "      <td>0av</td>\n",
       "      <td>0</td>\n",
       "    </tr>\n",
       "    <tr>\n",
       "      <th>2</th>\n",
       "      <td>2 Bedroom Guest Charlet</td>\n",
       "      <td>Badore</td>\n",
       "      <td>1000000</td>\n",
       "      <td>2 Bedrooms2 Bathrooms3 Toilets Save</td>\n",
       "      <td>data_flats.csv</td>\n",
       "      <td>Cooperative Villa</td>\n",
       "      <td>2</td>\n",
       "      <td>2</td>\n",
       "      <td>3</td>\n",
       "      <td>0</td>\n",
       "      <td>0</td>\n",
       "    </tr>\n",
       "    <tr>\n",
       "      <th>3</th>\n",
       "      <td>A Fairly Used &amp; Spacious 2 Bedroom Flat</td>\n",
       "      <td>Gbagada</td>\n",
       "      <td>1100000</td>\n",
       "      <td>2 Bedrooms2 Bathrooms3 Toilets1 Parking Space ...</td>\n",
       "      <td>data_flats.csv</td>\n",
       "      <td>Atunrase Estate</td>\n",
       "      <td>2</td>\n",
       "      <td>2</td>\n",
       "      <td>3</td>\n",
       "      <td>1</td>\n",
       "      <td>0</td>\n",
       "    </tr>\n",
       "    <tr>\n",
       "      <th>4</th>\n",
       "      <td>Affordable 1 Bedroom Apartment</td>\n",
       "      <td>Victoria Island (VI)</td>\n",
       "      <td>1800000</td>\n",
       "      <td>1 Bedroom1 Bathroom2 Toilets Save</td>\n",
       "      <td>data_flats.csv</td>\n",
       "      <td>Oniru</td>\n",
       "      <td>1</td>\n",
       "      <td>1</td>\n",
       "      <td>2</td>\n",
       "      <td>0</td>\n",
       "      <td>0</td>\n",
       "    </tr>\n",
       "    <tr>\n",
       "      <th>5</th>\n",
       "      <td>Affordable 2 Bedroom Apartment</td>\n",
       "      <td>Ikoyi</td>\n",
       "      <td>6000000</td>\n",
       "      <td>2 Bedrooms2 Bathrooms3 Toilets Save</td>\n",
       "      <td>data_flats.csv</td>\n",
       "      <td>Old Ikoyi</td>\n",
       "      <td>2</td>\n",
       "      <td>2</td>\n",
       "      <td>3</td>\n",
       "      <td>0</td>\n",
       "      <td>0</td>\n",
       "    </tr>\n",
       "    <tr>\n",
       "      <th>6</th>\n",
       "      <td>A Lovely &amp; Nice Very Good Mini Flat With Car Park</td>\n",
       "      <td>Akoka</td>\n",
       "      <td>700000</td>\n",
       "      <td>1 Bedroom1 Bathroom2 Toilets1 Parking Space Save</td>\n",
       "      <td>data_flats.csv</td>\n",
       "      <td>Off Community Road</td>\n",
       "      <td>1</td>\n",
       "      <td>1</td>\n",
       "      <td>2</td>\n",
       "      <td>1</td>\n",
       "      <td>0</td>\n",
       "    </tr>\n",
       "    <tr>\n",
       "      <th>7</th>\n",
       "      <td>Cozy Mini Flat</td>\n",
       "      <td>Victoria Island (VI)</td>\n",
       "      <td>2250000</td>\n",
       "      <td>1 Bedroom1 Bathroom1 Toilet Save</td>\n",
       "      <td>data_flats.csv</td>\n",
       "      <td>Oniru</td>\n",
       "      <td>1</td>\n",
       "      <td>1</td>\n",
       "      <td>1</td>\n",
       "      <td>0</td>\n",
       "      <td>0</td>\n",
       "    </tr>\n",
       "    <tr>\n",
       "      <th>8</th>\n",
       "      <td>A Room Self Contained</td>\n",
       "      <td>Agungi Extention</td>\n",
       "      <td>350000</td>\n",
       "      <td>1 Bathroom2 Toilets10 Parking Spaces600 sqm To...</td>\n",
       "      <td>data_flats.csv</td>\n",
       "      <td>Osapa</td>\n",
       "      <td>1</td>\n",
       "      <td>B</td>\n",
       "      <td>1</td>\n",
       "      <td>0 P</td>\n",
       "      <td>0</td>\n",
       "    </tr>\n",
       "    <tr>\n",
       "      <th>9</th>\n",
       "      <td>A Room Self Contained.</td>\n",
       "      <td>Lekki Expressway</td>\n",
       "      <td>450000</td>\n",
       "      <td>1 Bathroom1 Toilet6 Parking Spaces500 sqm Tota...</td>\n",
       "      <td>data_flats.csv</td>\n",
       "      <td>Agungi</td>\n",
       "      <td>1</td>\n",
       "      <td>B</td>\n",
       "      <td>6</td>\n",
       "      <td>Pa</td>\n",
       "      <td>0</td>\n",
       "    </tr>\n",
       "  </tbody>\n",
       "</table>\n",
       "</div>"
      ],
      "text/plain": [
       "                                       property_type               location  \\\n",
       "0                        Sharp Two Bedroom Apartment                   Ajah   \n",
       "1  Two Bedroom Bungalow At Cooperative Villa Esta...                   Ajah   \n",
       "2                            2 Bedroom Guest Charlet                 Badore   \n",
       "3            A Fairly Used & Spacious 2 Bedroom Flat                Gbagada   \n",
       "4                     Affordable 1 Bedroom Apartment   Victoria Island (VI)   \n",
       "5                     Affordable 2 Bedroom Apartment                  Ikoyi   \n",
       "6  A Lovely & Nice Very Good Mini Flat With Car Park                  Akoka   \n",
       "7                                     Cozy Mini Flat   Victoria Island (VI)   \n",
       "8                              A Room Self Contained       Agungi Extention   \n",
       "9                             A Room Self Contained.       Lekki Expressway   \n",
       "\n",
       "     price                                           features        filename  \\\n",
       "0  1200000  2 Bedrooms3 Bathrooms3 Toilets12 Parking Space...  data_flats.csv   \n",
       "1  1000000                           2 Bedrooms2 Toilets Save  data_flats.csv   \n",
       "2  1000000                2 Bedrooms2 Bathrooms3 Toilets Save  data_flats.csv   \n",
       "3  1100000  2 Bedrooms2 Bathrooms3 Toilets1 Parking Space ...  data_flats.csv   \n",
       "4  1800000                  1 Bedroom1 Bathroom2 Toilets Save  data_flats.csv   \n",
       "5  6000000                2 Bedrooms2 Bathrooms3 Toilets Save  data_flats.csv   \n",
       "6   700000   1 Bedroom1 Bathroom2 Toilets1 Parking Space Save  data_flats.csv   \n",
       "7  2250000                   1 Bedroom1 Bathroom1 Toilet Save  data_flats.csv   \n",
       "8   350000  1 Bathroom2 Toilets10 Parking Spaces600 sqm To...  data_flats.csv   \n",
       "9   450000  1 Bathroom1 Toilet6 Parking Spaces500 sqm Tota...  data_flats.csv   \n",
       "\n",
       "                 address bedroom bathroom toilet parking_lot  bq  \n",
       "0  Lbs Lekkki Ajah Lagos       2        3      3          12   0  \n",
       "1                 Badore       2        2                0av   0  \n",
       "2      Cooperative Villa       2        2      3           0   0  \n",
       "3        Atunrase Estate       2        2      3          1    0  \n",
       "4                  Oniru       1        1      2           0   0  \n",
       "5              Old Ikoyi       2        2      3           0   0  \n",
       "6     Off Community Road       1        1      2          1    0  \n",
       "7                  Oniru       1        1      1           0   0  \n",
       "8                  Osapa       1        B      1         0 P   0  \n",
       "9                 Agungi       1        B      6          Pa   0  "
      ]
     },
     "execution_count": 31,
     "metadata": {},
     "output_type": "execute_result"
    }
   ],
   "source": [
    "data.head(10)"
   ]
  },
  {
   "cell_type": "code",
   "execution_count": 32,
   "metadata": {},
   "outputs": [],
   "source": [
    "data.to_csv('data.csv', index = False)"
   ]
  },
  {
   "cell_type": "code",
   "execution_count": null,
   "metadata": {},
   "outputs": [],
   "source": []
  }
 ],
 "metadata": {
  "kernelspec": {
   "display_name": "Python 3",
   "language": "python",
   "name": "python3"
  },
  "language_info": {
   "codemirror_mode": {
    "name": "ipython",
    "version": 3
   },
   "file_extension": ".py",
   "mimetype": "text/x-python",
   "name": "python",
   "nbconvert_exporter": "python",
   "pygments_lexer": "ipython3",
   "version": "3.7.6"
  }
 },
 "nbformat": 4,
 "nbformat_minor": 4
}
