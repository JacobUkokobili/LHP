{
 "cells": [
  {
   "cell_type": "code",
   "execution_count": 1,
   "metadata": {},
   "outputs": [
    {
     "name": "stdout",
     "output_type": "stream",
     "text": [
      "Populating the interactive namespace from numpy and matplotlib\n"
     ]
    }
   ],
   "source": [
    "# import modules and libraries\n",
    "import pandas as pd\n",
    "import numpy as np\n",
    "import matplotlib.pyplot as plt\n",
    "import seaborn as sns\n",
    "%pylab inline"
   ]
  },
  {
   "cell_type": "code",
   "execution_count": 2,
   "metadata": {},
   "outputs": [
    {
     "data": {
      "text/html": [
       "<div>\n",
       "<style scoped>\n",
       "    .dataframe tbody tr th:only-of-type {\n",
       "        vertical-align: middle;\n",
       "    }\n",
       "\n",
       "    .dataframe tbody tr th {\n",
       "        vertical-align: top;\n",
       "    }\n",
       "\n",
       "    .dataframe thead th {\n",
       "        text-align: right;\n",
       "    }\n",
       "</style>\n",
       "<table border=\"1\" class=\"dataframe\">\n",
       "  <thead>\n",
       "    <tr style=\"text-align: right;\">\n",
       "      <th></th>\n",
       "      <th>property_type</th>\n",
       "      <th>location</th>\n",
       "      <th>price</th>\n",
       "      <th>features</th>\n",
       "    </tr>\n",
       "  </thead>\n",
       "  <tbody>\n",
       "    <tr>\n",
       "      <th>0</th>\n",
       "      <td>Sharp Two Bedroom Apartment</td>\n",
       "      <td>Lbs Lekkki Ajah Lagos, Ajah, Lagos</td>\n",
       "      <td>1,200,000 per annum</td>\n",
       "      <td>2 Bedrooms3 Bathrooms3 Toilets12 Parking Space...</td>\n",
       "    </tr>\n",
       "    <tr>\n",
       "      <th>1</th>\n",
       "      <td>Two Bedroom Bungalow At Cooperative Villa Esta...</td>\n",
       "      <td>Badore, Ajah, Lagos</td>\n",
       "      <td>1,000,000 per annum</td>\n",
       "      <td>2 Bedrooms2 Toilets Save</td>\n",
       "    </tr>\n",
       "    <tr>\n",
       "      <th>2</th>\n",
       "      <td>2 Bedroom Guest Charlet</td>\n",
       "      <td>Cooperative Villa, Badore, Ajah, Lagos</td>\n",
       "      <td>1,000,000 per annum</td>\n",
       "      <td>2 Bedrooms2 Bathrooms3 Toilets Save</td>\n",
       "    </tr>\n",
       "    <tr>\n",
       "      <th>3</th>\n",
       "      <td>A Fairly Used &amp; Spacious 2 Bedroom Flat</td>\n",
       "      <td>Atunrase Estate, Gbagada, Lagos</td>\n",
       "      <td>1,100,000 per annum</td>\n",
       "      <td>2 Bedrooms2 Bathrooms3 Toilets1 Parking Space ...</td>\n",
       "    </tr>\n",
       "    <tr>\n",
       "      <th>4</th>\n",
       "      <td>Affordable 1 Bedroom Apartment</td>\n",
       "      <td>Oniru, Victoria Island (VI), Lagos</td>\n",
       "      <td>1,800,000 per annum</td>\n",
       "      <td>1 Bedroom1 Bathroom2 Toilets Save</td>\n",
       "    </tr>\n",
       "  </tbody>\n",
       "</table>\n",
       "</div>"
      ],
      "text/plain": [
       "                                       property_type  \\\n",
       "0                        Sharp Two Bedroom Apartment   \n",
       "1  Two Bedroom Bungalow At Cooperative Villa Esta...   \n",
       "2                            2 Bedroom Guest Charlet   \n",
       "3            A Fairly Used & Spacious 2 Bedroom Flat   \n",
       "4                     Affordable 1 Bedroom Apartment   \n",
       "\n",
       "                                 location                price  \\\n",
       "0      Lbs Lekkki Ajah Lagos, Ajah, Lagos  1,200,000 per annum   \n",
       "1                     Badore, Ajah, Lagos  1,000,000 per annum   \n",
       "2  Cooperative Villa, Badore, Ajah, Lagos  1,000,000 per annum   \n",
       "3         Atunrase Estate, Gbagada, Lagos  1,100,000 per annum   \n",
       "4      Oniru, Victoria Island (VI), Lagos  1,800,000 per annum   \n",
       "\n",
       "                                            features  \n",
       "0  2 Bedrooms3 Bathrooms3 Toilets12 Parking Space...  \n",
       "1                           2 Bedrooms2 Toilets Save  \n",
       "2                2 Bedrooms2 Bathrooms3 Toilets Save  \n",
       "3  2 Bedrooms2 Bathrooms3 Toilets1 Parking Space ...  \n",
       "4                  1 Bedroom1 Bathroom2 Toilets Save  "
      ]
     },
     "execution_count": 2,
     "metadata": {},
     "output_type": "execute_result"
    }
   ],
   "source": [
    "data = pd.read_csv('data_flats.csv')\n",
    "data.head()"
   ]
  },
  {
   "cell_type": "code",
   "execution_count": 3,
   "metadata": {},
   "outputs": [
    {
     "data": {
      "text/plain": [
       "(1460, 4)"
      ]
     },
     "execution_count": 3,
     "metadata": {},
     "output_type": "execute_result"
    }
   ],
   "source": [
    "data.shape"
   ]
  },
  {
   "cell_type": "code",
   "execution_count": 4,
   "metadata": {},
   "outputs": [],
   "source": [
    "data['neighourhood'] = data['location'].apply(lambda x: x.split(',')[1])"
   ]
  },
  {
   "cell_type": "code",
   "execution_count": 5,
   "metadata": {},
   "outputs": [
    {
     "data": {
      "text/plain": [
       "0                        Ajah\n",
       "1                        Ajah\n",
       "2                      Badore\n",
       "3                     Gbagada\n",
       "4        Victoria Island (VI)\n",
       "                ...          \n",
       "1455                    Lagos\n",
       "1456       Off Checking Point\n",
       "1457                   Badore\n",
       "1458           Ikate Elegushi\n",
       "1459     Victoria Island (VI)\n",
       "Name: neighourhood, Length: 1460, dtype: object"
      ]
     },
     "execution_count": 5,
     "metadata": {},
     "output_type": "execute_result"
    }
   ],
   "source": [
    "data['neighourhood']"
   ]
  },
  {
   "cell_type": "code",
   "execution_count": 6,
   "metadata": {},
   "outputs": [],
   "source": [
    "data['location'] = data['location'].apply(lambda x: x.split(',')[-2])"
   ]
  },
  {
   "cell_type": "code",
   "execution_count": 7,
   "metadata": {},
   "outputs": [],
   "source": [
    "data['location'] = data['location'].apply(lambda x: x.replace(' Ajah','Ajah').replace(' Gbagada','Gbagada').replace(' Victoria Island (VI)',\n",
    "                                    'Victoria Island (VI)').replace(' Ikoyi','Ikoyi').replace(' Yaba','Yaba').replace(' Maryland','Maryland').replace(' Lekki','Lekki').replace(' Ikeja',\n",
    "                                    'Ikeja').replace(' Magodo','Magodo').replace(' Ibeju Lekki','Ibeju Lekki').replace(' Apapa',\n",
    "                                    'Apapa').replace(' Shomolu','Shomolu').replace(' Ikorodu','Ikorodu').replace(' Isolo','Isolo').replace(' Ilupeju',\n",
    "                                    'Ilupeju').replace(' Isheri North','Isheri North').replace(' Oshodi','Oshodi').replace(' Ojota','Ojota').replace(' Ketu','Ketu').replace(' Ogudu',\n",
    "                                    'Ogudu').replace(' KM 46','KM 46').replace(' Idimu','Idimu').replace(' Garki','Garki').replace(' Ipaja','Ipaja').replace(' Ikotun',\n",
    "                                    'Ikotun').replace(' Alimosho','Alimosho').replace(' Kosofe','Kosofe').replace(' Magboro','Magboro').replace(' Epe','Epe').replace(' Ayobo','Ayobo').replace(' Agege',\n",
    "                                    'Agege').replace(' Arepo','Arepo').replace(' Ojodu','Ojodu').replace(' Eko Atlantic City','Eko Atlantic City'))"
   ]
  },
  {
   "cell_type": "code",
   "execution_count": 8,
   "metadata": {},
   "outputs": [],
   "source": [
    "data['location'] = data['location'].apply(lambda x: x.strip())"
   ]
  },
  {
   "cell_type": "code",
   "execution_count": 9,
   "metadata": {},
   "outputs": [],
   "source": [
    "data['price'] = data['price'].str.replace(',', '')"
   ]
  },
  {
   "cell_type": "code",
   "execution_count": null,
   "metadata": {},
   "outputs": [],
   "source": []
  },
  {
   "cell_type": "code",
   "execution_count": 9,
   "metadata": {},
   "outputs": [],
   "source": [
    "data['price'] = data['price'].apply(lambda x: x.split()[0])\n",
    "data['price'] = data['price'].str.replace('all', '0')\n",
    "data['price'] = data['price'].astype(int)"
   ]
  },
  {
   "cell_type": "code",
   "execution_count": 10,
   "metadata": {},
   "outputs": [],
   "source": [
    "data['bedroom'] = data['features'].apply(lambda x: x.split()[0])"
   ]
  },
  {
   "cell_type": "code",
   "execution_count": 11,
   "metadata": {},
   "outputs": [
    {
     "data": {
      "text/plain": [
       "0       2\n",
       "1       2\n",
       "2       2\n",
       "3       2\n",
       "4       1\n",
       "       ..\n",
       "1455    3\n",
       "1456    2\n",
       "1457    2\n",
       "1458    3\n",
       "1459    3\n",
       "Name: bedroom, Length: 1460, dtype: object"
      ]
     },
     "execution_count": 11,
     "metadata": {},
     "output_type": "execute_result"
    }
   ],
   "source": [
    "data.bedroom"
   ]
  },
  {
   "cell_type": "code",
   "execution_count": 12,
   "metadata": {},
   "outputs": [],
   "source": [
    "bath = data['features'].apply(lambda x: x.replace('Bedrooms','').replace('Bedroom',''))"
   ]
  },
  {
   "cell_type": "code",
   "execution_count": 13,
   "metadata": {},
   "outputs": [
    {
     "data": {
      "text/plain": [
       "0       2 3 Bathrooms3 Toilets12 Parking Spaces Save\n",
       "1                                   2 2 Toilets Save\n",
       "2                        2 2 Bathrooms3 Toilets Save\n",
       "3         2 2 Bathrooms3 Toilets1 Parking Space Save\n",
       "4                         1 1 Bathroom2 Toilets Save\n",
       "                            ...                     \n",
       "1455                     3 3 Bathrooms4 Toilets Save\n",
       "1456     2 2 Bathrooms3 Toilets3 Parking Spaces Save\n",
       "1457                     2 2 Bathrooms3 Toilets Save\n",
       "1458     3 3 Bathrooms3 Toilets2 Parking Spaces Save\n",
       "1459     3 3 Bathrooms4 Toilets2 Parking Spaces Save\n",
       "Name: features, Length: 1460, dtype: object"
      ]
     },
     "execution_count": 13,
     "metadata": {},
     "output_type": "execute_result"
    }
   ],
   "source": [
    "bath"
   ]
  },
  {
   "cell_type": "code",
   "execution_count": 14,
   "metadata": {},
   "outputs": [],
   "source": [
    "data['bathroom'] = bath.apply(lambda x: x.strip()[2])"
   ]
  },
  {
   "cell_type": "code",
   "execution_count": 15,
   "metadata": {},
   "outputs": [],
   "source": [
    "toilets = bath.apply(lambda x: x.replace('Bathrooms','').replace('Bathroom','').replace('Toilets','').replace('Toilet',''))"
   ]
  },
  {
   "cell_type": "code",
   "execution_count": 16,
   "metadata": {},
   "outputs": [
    {
     "data": {
      "text/plain": [
       "0       2 3 3 12 Parking Spaces Save\n",
       "1                          2 2  Save\n",
       "2                        2 2 3  Save\n",
       "3         2 2 3 1 Parking Space Save\n",
       "4                        1 1 2  Save\n",
       "                    ...             \n",
       "1455                     3 3 4  Save\n",
       "1456     2 2 3 3 Parking Spaces Save\n",
       "1457                     2 2 3  Save\n",
       "1458     3 3 3 2 Parking Spaces Save\n",
       "1459     3 3 4 2 Parking Spaces Save\n",
       "Name: features, Length: 1460, dtype: object"
      ]
     },
     "execution_count": 16,
     "metadata": {},
     "output_type": "execute_result"
    }
   ],
   "source": [
    "toilets"
   ]
  },
  {
   "cell_type": "code",
   "execution_count": 17,
   "metadata": {},
   "outputs": [],
   "source": [
    "data['toilet'] = toilets.apply(lambda x: x.strip()[3:5])"
   ]
  },
  {
   "cell_type": "code",
   "execution_count": 18,
   "metadata": {},
   "outputs": [],
   "source": [
    "data['parking_lot'] = toilets.apply(lambda x: x.strip()[5:8])"
   ]
  },
  {
   "cell_type": "code",
   "execution_count": 19,
   "metadata": {},
   "outputs": [
    {
     "data": {
      "text/html": [
       "<div>\n",
       "<style scoped>\n",
       "    .dataframe tbody tr th:only-of-type {\n",
       "        vertical-align: middle;\n",
       "    }\n",
       "\n",
       "    .dataframe tbody tr th {\n",
       "        vertical-align: top;\n",
       "    }\n",
       "\n",
       "    .dataframe thead th {\n",
       "        text-align: right;\n",
       "    }\n",
       "</style>\n",
       "<table border=\"1\" class=\"dataframe\">\n",
       "  <thead>\n",
       "    <tr style=\"text-align: right;\">\n",
       "      <th></th>\n",
       "      <th>property_type</th>\n",
       "      <th>location</th>\n",
       "      <th>price</th>\n",
       "      <th>features</th>\n",
       "      <th>neighourhood</th>\n",
       "      <th>bedroom</th>\n",
       "      <th>bathroom</th>\n",
       "      <th>toilet</th>\n",
       "      <th>parking_lot</th>\n",
       "    </tr>\n",
       "  </thead>\n",
       "  <tbody>\n",
       "    <tr>\n",
       "      <th>0</th>\n",
       "      <td>Sharp Two Bedroom Apartment</td>\n",
       "      <td>Ajah</td>\n",
       "      <td>1200000</td>\n",
       "      <td>2 Bedrooms3 Bathrooms3 Toilets12 Parking Space...</td>\n",
       "      <td>Ajah</td>\n",
       "      <td>2</td>\n",
       "      <td>3</td>\n",
       "      <td>3</td>\n",
       "      <td>12</td>\n",
       "    </tr>\n",
       "    <tr>\n",
       "      <th>1</th>\n",
       "      <td>Two Bedroom Bungalow At Cooperative Villa Esta...</td>\n",
       "      <td>Ajah</td>\n",
       "      <td>1000000</td>\n",
       "      <td>2 Bedrooms2 Toilets Save</td>\n",
       "      <td>Ajah</td>\n",
       "      <td>2</td>\n",
       "      <td>2</td>\n",
       "      <td></td>\n",
       "      <td>Sav</td>\n",
       "    </tr>\n",
       "    <tr>\n",
       "      <th>2</th>\n",
       "      <td>2 Bedroom Guest Charlet</td>\n",
       "      <td>Ajah</td>\n",
       "      <td>1000000</td>\n",
       "      <td>2 Bedrooms2 Bathrooms3 Toilets Save</td>\n",
       "      <td>Badore</td>\n",
       "      <td>2</td>\n",
       "      <td>2</td>\n",
       "      <td>3</td>\n",
       "      <td>S</td>\n",
       "    </tr>\n",
       "    <tr>\n",
       "      <th>3</th>\n",
       "      <td>A Fairly Used &amp; Spacious 2 Bedroom Flat</td>\n",
       "      <td>Gbagada</td>\n",
       "      <td>1100000</td>\n",
       "      <td>2 Bedrooms2 Bathrooms3 Toilets1 Parking Space ...</td>\n",
       "      <td>Gbagada</td>\n",
       "      <td>2</td>\n",
       "      <td>2</td>\n",
       "      <td>3</td>\n",
       "      <td>1</td>\n",
       "    </tr>\n",
       "    <tr>\n",
       "      <th>4</th>\n",
       "      <td>Affordable 1 Bedroom Apartment</td>\n",
       "      <td>Victoria Island (VI)</td>\n",
       "      <td>1800000</td>\n",
       "      <td>1 Bedroom1 Bathroom2 Toilets Save</td>\n",
       "      <td>Victoria Island (VI)</td>\n",
       "      <td>1</td>\n",
       "      <td>1</td>\n",
       "      <td>2</td>\n",
       "      <td>S</td>\n",
       "    </tr>\n",
       "  </tbody>\n",
       "</table>\n",
       "</div>"
      ],
      "text/plain": [
       "                                       property_type              location  \\\n",
       "0                        Sharp Two Bedroom Apartment                  Ajah   \n",
       "1  Two Bedroom Bungalow At Cooperative Villa Esta...                  Ajah   \n",
       "2                            2 Bedroom Guest Charlet                  Ajah   \n",
       "3            A Fairly Used & Spacious 2 Bedroom Flat               Gbagada   \n",
       "4                     Affordable 1 Bedroom Apartment  Victoria Island (VI)   \n",
       "\n",
       "     price                                           features  \\\n",
       "0  1200000  2 Bedrooms3 Bathrooms3 Toilets12 Parking Space...   \n",
       "1  1000000                           2 Bedrooms2 Toilets Save   \n",
       "2  1000000                2 Bedrooms2 Bathrooms3 Toilets Save   \n",
       "3  1100000  2 Bedrooms2 Bathrooms3 Toilets1 Parking Space ...   \n",
       "4  1800000                  1 Bedroom1 Bathroom2 Toilets Save   \n",
       "\n",
       "            neighourhood bedroom bathroom toilet parking_lot  \n",
       "0                   Ajah       2        3      3          12  \n",
       "1                   Ajah       2        2                Sav  \n",
       "2                 Badore       2        2      3           S  \n",
       "3                Gbagada       2        2      3          1   \n",
       "4   Victoria Island (VI)       1        1      2           S  "
      ]
     },
     "execution_count": 19,
     "metadata": {},
     "output_type": "execute_result"
    }
   ],
   "source": [
    "data.head()"
   ]
  },
  {
   "cell_type": "code",
   "execution_count": 99,
   "metadata": {},
   "outputs": [],
   "source": [
    "data['bq'] = data['property_type'].apply(lambda x: 1 if 'Bq' in x else 0)"
   ]
  },
  {
   "cell_type": "code",
   "execution_count": 100,
   "metadata": {},
   "outputs": [
    {
     "data": {
      "text/html": [
       "<div>\n",
       "<style scoped>\n",
       "    .dataframe tbody tr th:only-of-type {\n",
       "        vertical-align: middle;\n",
       "    }\n",
       "\n",
       "    .dataframe tbody tr th {\n",
       "        vertical-align: top;\n",
       "    }\n",
       "\n",
       "    .dataframe thead th {\n",
       "        text-align: right;\n",
       "    }\n",
       "</style>\n",
       "<table border=\"1\" class=\"dataframe\">\n",
       "  <thead>\n",
       "    <tr style=\"text-align: right;\">\n",
       "      <th></th>\n",
       "      <th>property_type</th>\n",
       "      <th>location</th>\n",
       "      <th>price</th>\n",
       "      <th>features</th>\n",
       "      <th>neighourhood</th>\n",
       "      <th>bedroom</th>\n",
       "      <th>bathroom</th>\n",
       "      <th>toilet</th>\n",
       "      <th>parking_lot</th>\n",
       "      <th>bq</th>\n",
       "    </tr>\n",
       "  </thead>\n",
       "  <tbody>\n",
       "    <tr>\n",
       "      <th>0</th>\n",
       "      <td>Sharp Two Bedroom Apartment</td>\n",
       "      <td>Ajah</td>\n",
       "      <td>1200000</td>\n",
       "      <td>2 Bedrooms3 Bathrooms3 Toilets12 Parking Space...</td>\n",
       "      <td>Ajah</td>\n",
       "      <td>2</td>\n",
       "      <td>3</td>\n",
       "      <td>3</td>\n",
       "      <td>12</td>\n",
       "      <td>0</td>\n",
       "    </tr>\n",
       "    <tr>\n",
       "      <th>1</th>\n",
       "      <td>Two Bedroom Bungalow At Cooperative Villa Esta...</td>\n",
       "      <td>Ajah</td>\n",
       "      <td>1000000</td>\n",
       "      <td>2 Bedrooms2 Toilets Save</td>\n",
       "      <td>Ajah</td>\n",
       "      <td>2</td>\n",
       "      <td>2</td>\n",
       "      <td></td>\n",
       "      <td>Sav</td>\n",
       "      <td>0</td>\n",
       "    </tr>\n",
       "    <tr>\n",
       "      <th>2</th>\n",
       "      <td>2 Bedroom Guest Charlet</td>\n",
       "      <td>Ajah</td>\n",
       "      <td>1000000</td>\n",
       "      <td>2 Bedrooms2 Bathrooms3 Toilets Save</td>\n",
       "      <td>Badore</td>\n",
       "      <td>2</td>\n",
       "      <td>2</td>\n",
       "      <td>3</td>\n",
       "      <td>S</td>\n",
       "      <td>0</td>\n",
       "    </tr>\n",
       "    <tr>\n",
       "      <th>3</th>\n",
       "      <td>A Fairly Used &amp; Spacious 2 Bedroom Flat</td>\n",
       "      <td>Gbagada</td>\n",
       "      <td>1100000</td>\n",
       "      <td>2 Bedrooms2 Bathrooms3 Toilets1 Parking Space ...</td>\n",
       "      <td>Gbagada</td>\n",
       "      <td>2</td>\n",
       "      <td>2</td>\n",
       "      <td>3</td>\n",
       "      <td>1</td>\n",
       "      <td>0</td>\n",
       "    </tr>\n",
       "    <tr>\n",
       "      <th>4</th>\n",
       "      <td>Affordable 1 Bedroom Apartment</td>\n",
       "      <td>Victoria Island (VI)</td>\n",
       "      <td>1800000</td>\n",
       "      <td>1 Bedroom1 Bathroom2 Toilets Save</td>\n",
       "      <td>Victoria Island (VI)</td>\n",
       "      <td>1</td>\n",
       "      <td>1</td>\n",
       "      <td>2</td>\n",
       "      <td>S</td>\n",
       "      <td>0</td>\n",
       "    </tr>\n",
       "    <tr>\n",
       "      <th>5</th>\n",
       "      <td>Affordable 2 Bedroom Apartment</td>\n",
       "      <td>Ikoyi</td>\n",
       "      <td>6000000</td>\n",
       "      <td>2 Bedrooms2 Bathrooms3 Toilets Save</td>\n",
       "      <td>Ikoyi</td>\n",
       "      <td>2</td>\n",
       "      <td>2</td>\n",
       "      <td>3</td>\n",
       "      <td>S</td>\n",
       "      <td>0</td>\n",
       "    </tr>\n",
       "    <tr>\n",
       "      <th>6</th>\n",
       "      <td>A Lovely &amp; Nice Very Good Mini Flat With Car Park</td>\n",
       "      <td>Yaba</td>\n",
       "      <td>700000</td>\n",
       "      <td>1 Bedroom1 Bathroom2 Toilets1 Parking Space Save</td>\n",
       "      <td>Akoka</td>\n",
       "      <td>1</td>\n",
       "      <td>1</td>\n",
       "      <td>2</td>\n",
       "      <td>1</td>\n",
       "      <td>0</td>\n",
       "    </tr>\n",
       "    <tr>\n",
       "      <th>7</th>\n",
       "      <td>Cozy Mini Flat</td>\n",
       "      <td>Victoria Island (VI)</td>\n",
       "      <td>2250000</td>\n",
       "      <td>1 Bedroom1 Bathroom1 Toilet Save</td>\n",
       "      <td>Victoria Island (VI)</td>\n",
       "      <td>1</td>\n",
       "      <td>1</td>\n",
       "      <td>1</td>\n",
       "      <td>S</td>\n",
       "      <td>0</td>\n",
       "    </tr>\n",
       "    <tr>\n",
       "      <th>8</th>\n",
       "      <td>A Room Self Contained</td>\n",
       "      <td>Lekki</td>\n",
       "      <td>350000</td>\n",
       "      <td>1 Bathroom2 Toilets10 Parking Spaces600 sqm To...</td>\n",
       "      <td>Agungi Extention</td>\n",
       "      <td>1</td>\n",
       "      <td>B</td>\n",
       "      <td>1</td>\n",
       "      <td>0 P</td>\n",
       "      <td>0</td>\n",
       "    </tr>\n",
       "    <tr>\n",
       "      <th>9</th>\n",
       "      <td>A Room Self Contained.</td>\n",
       "      <td>Lekki</td>\n",
       "      <td>450000</td>\n",
       "      <td>1 Bathroom1 Toilet6 Parking Spaces500 sqm Tota...</td>\n",
       "      <td>Lekki Expressway</td>\n",
       "      <td>1</td>\n",
       "      <td>B</td>\n",
       "      <td>6</td>\n",
       "      <td>Pa</td>\n",
       "      <td>0</td>\n",
       "    </tr>\n",
       "  </tbody>\n",
       "</table>\n",
       "</div>"
      ],
      "text/plain": [
       "                                       property_type              location  \\\n",
       "0                        Sharp Two Bedroom Apartment                  Ajah   \n",
       "1  Two Bedroom Bungalow At Cooperative Villa Esta...                  Ajah   \n",
       "2                            2 Bedroom Guest Charlet                  Ajah   \n",
       "3            A Fairly Used & Spacious 2 Bedroom Flat               Gbagada   \n",
       "4                     Affordable 1 Bedroom Apartment  Victoria Island (VI)   \n",
       "5                     Affordable 2 Bedroom Apartment                 Ikoyi   \n",
       "6  A Lovely & Nice Very Good Mini Flat With Car Park                  Yaba   \n",
       "7                                     Cozy Mini Flat  Victoria Island (VI)   \n",
       "8                              A Room Self Contained                 Lekki   \n",
       "9                             A Room Self Contained.                 Lekki   \n",
       "\n",
       "     price                                           features  \\\n",
       "0  1200000  2 Bedrooms3 Bathrooms3 Toilets12 Parking Space...   \n",
       "1  1000000                           2 Bedrooms2 Toilets Save   \n",
       "2  1000000                2 Bedrooms2 Bathrooms3 Toilets Save   \n",
       "3  1100000  2 Bedrooms2 Bathrooms3 Toilets1 Parking Space ...   \n",
       "4  1800000                  1 Bedroom1 Bathroom2 Toilets Save   \n",
       "5  6000000                2 Bedrooms2 Bathrooms3 Toilets Save   \n",
       "6   700000   1 Bedroom1 Bathroom2 Toilets1 Parking Space Save   \n",
       "7  2250000                   1 Bedroom1 Bathroom1 Toilet Save   \n",
       "8   350000  1 Bathroom2 Toilets10 Parking Spaces600 sqm To...   \n",
       "9   450000  1 Bathroom1 Toilet6 Parking Spaces500 sqm Tota...   \n",
       "\n",
       "            neighourhood bedroom bathroom toilet parking_lot  bq  \n",
       "0                   Ajah       2        3      3          12   0  \n",
       "1                   Ajah       2        2                Sav   0  \n",
       "2                 Badore       2        2      3           S   0  \n",
       "3                Gbagada       2        2      3          1    0  \n",
       "4   Victoria Island (VI)       1        1      2           S   0  \n",
       "5                  Ikoyi       2        2      3           S   0  \n",
       "6                  Akoka       1        1      2          1    0  \n",
       "7   Victoria Island (VI)       1        1      1           S   0  \n",
       "8       Agungi Extention       1        B      1         0 P   0  \n",
       "9       Lekki Expressway       1        B      6          Pa   0  "
      ]
     },
     "execution_count": 100,
     "metadata": {},
     "output_type": "execute_result"
    }
   ],
   "source": [
    "data.head(10)"
   ]
  },
  {
   "cell_type": "code",
   "execution_count": 101,
   "metadata": {},
   "outputs": [],
   "source": [
    "data.to_csv('lagos_rent_data.csv', index = False)"
   ]
  },
  {
   "cell_type": "code",
   "execution_count": null,
   "metadata": {},
   "outputs": [],
   "source": []
  }
 ],
 "metadata": {
  "kernelspec": {
   "display_name": "Python 3",
   "language": "python",
   "name": "python3"
  },
  "language_info": {
   "codemirror_mode": {
    "name": "ipython",
    "version": 3
   },
   "file_extension": ".py",
   "mimetype": "text/x-python",
   "name": "python",
   "nbconvert_exporter": "python",
   "pygments_lexer": "ipython3",
   "version": "3.8.3"
  }
 },
 "nbformat": 4,
 "nbformat_minor": 4
}
